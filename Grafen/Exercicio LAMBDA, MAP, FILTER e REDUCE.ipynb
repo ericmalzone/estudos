{
 "cells": [
  {
   "cell_type": "markdown",
   "metadata": {},
   "source": [
    "Faça um código que exista a entrada de dois números e exiba a multiplicação deles:"
   ]
  },
  {
   "cell_type": "code",
   "execution_count": 1,
   "metadata": {},
   "outputs": [],
   "source": [
    "from functools import reduce"
   ]
  },
  {
   "cell_type": "code",
   "execution_count": 8,
   "metadata": {},
   "outputs": [],
   "source": [
    "lista = [10, 20]\n",
    "reduzindo = reduce(lambda x, y: x * y, lista)"
   ]
  },
  {
   "cell_type": "code",
   "execution_count": 12,
   "metadata": {},
   "outputs": [
    {
     "name": "stdout",
     "output_type": "stream",
     "text": [
      "Reduzindo: 200\n"
     ]
    }
   ],
   "source": [
    "print(\"Reduzindo: {}\".format(reduzindo))"
   ]
  },
  {
   "cell_type": "markdown",
   "metadata": {},
   "source": [
    "Faça um código que tenha a entrada uma lista de 15 números e exiba os números maior que 10:"
   ]
  },
  {
   "cell_type": "code",
   "execution_count": 25,
   "metadata": {},
   "outputs": [],
   "source": [
    "lista = [1, 5, 7, 10, 13, 15, 20, 25, 30, 22, 11, 44, 55, 60, 90]\n",
    "def maior10(x):\n",
    "    if x > 10:\n",
    "        return x\n",
    "filtrando = filter(maior10, lista)"
   ]
  },
  {
   "cell_type": "code",
   "execution_count": 26,
   "metadata": {},
   "outputs": [
    {
     "name": "stdout",
     "output_type": "stream",
     "text": [
      "Filtrando: [13, 15, 20, 25, 30, 22, 11, 44, 55, 60, 90]\n"
     ]
    }
   ],
   "source": [
    "print(\"Filtrando: {}\".format(list(filtrando)))"
   ]
  },
  {
   "cell_type": "markdown",
   "metadata": {},
   "source": [
    "Faça um código que tenha a entrada uma lista de 20 números e exiba os números pares:"
   ]
  },
  {
   "cell_type": "code",
   "execution_count": 18,
   "metadata": {},
   "outputs": [],
   "source": [
    "lista = [1, 5, 7, 10, 13, 15, 20, 25, 30, 22, 11, 44, 55, 60, 90, 52, 78, 81, 99, 100]\n",
    "def pares(x):\n",
    "    if x % 2 == 0:\n",
    "        return x\n",
    "filtrando = filter(pares, lista)"
   ]
  },
  {
   "cell_type": "code",
   "execution_count": 19,
   "metadata": {},
   "outputs": [
    {
     "name": "stdout",
     "output_type": "stream",
     "text": [
      "Filtrando: [10, 20, 30, 22, 44, 60, 90, 52, 78, 100]\n"
     ]
    }
   ],
   "source": [
    "print(\"Filtrando: {}\".format(list(filtrando)))"
   ]
  },
  {
   "cell_type": "markdown",
   "metadata": {},
   "source": [
    "Faça um código que tenha a entrada uma lista de 20 números e some todos eles:"
   ]
  },
  {
   "cell_type": "code",
   "execution_count": 20,
   "metadata": {},
   "outputs": [],
   "source": [
    "lista = [1, 5, 7, 10, 13, 15, 20, 25, 30, 22, 11, 44, 55, 60, 90, 52, 78, 81, 99, 100]\n",
    "reduzindo = reduce(lambda x, y: x + y, lista)"
   ]
  },
  {
   "cell_type": "code",
   "execution_count": 21,
   "metadata": {},
   "outputs": [
    {
     "name": "stdout",
     "output_type": "stream",
     "text": [
      "Reduzindo: 818\n"
     ]
    }
   ],
   "source": [
    "print(\"Reduzindo: {}\".format(reduzindo))"
   ]
  },
  {
   "cell_type": "markdown",
   "metadata": {},
   "source": [
    "Faça um código que tenha a entrada uma lista de 25 números e em cada um some 10. (com map):"
   ]
  },
  {
   "cell_type": "code",
   "execution_count": 22,
   "metadata": {},
   "outputs": [],
   "source": [
    "lista = [1, 5, 7, 10, 13, 15, 20, 25, 30, 22, 11, 44, 55, 60, 90, 52, 78, 81, 99, 100, 120, 222, 333, 444, 555]\n",
    "def soma(x):\n",
    "    return x + 10\n",
    "mapeando = map(soma, lista)"
   ]
  },
  {
   "cell_type": "code",
   "execution_count": 24,
   "metadata": {},
   "outputs": [
    {
     "name": "stdout",
     "output_type": "stream",
     "text": [
      "Mapeando: [11, 15, 17, 20, 23, 25, 30, 35, 40, 32, 21, 54, 65, 70, 100, 62, 88, 91, 109, 110, 130, 232, 343, 454, 565]\n"
     ]
    }
   ],
   "source": [
    "print(\"Mapeando: {}\".format(list(mapeando)))"
   ]
  }
 ],
 "metadata": {
  "kernelspec": {
   "display_name": "Python 3",
   "language": "python",
   "name": "python3"
  },
  "language_info": {
   "codemirror_mode": {
    "name": "ipython",
    "version": 3
   },
   "file_extension": ".py",
   "mimetype": "text/x-python",
   "name": "python",
   "nbconvert_exporter": "python",
   "pygments_lexer": "ipython3",
   "version": "3.11.9"
  }
 },
 "nbformat": 4,
 "nbformat_minor": 2
}

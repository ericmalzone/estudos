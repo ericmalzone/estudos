{
 "cells": [
  {
   "cell_type": "markdown",
   "metadata": {},
   "source": [
    "# Declaração de Variáveis"
   ]
  },
  {
   "cell_type": "code",
   "execution_count": 5,
   "metadata": {},
   "outputs": [],
   "source": [
    "a = \"Eric\""
   ]
  },
  {
   "cell_type": "code",
   "execution_count": 6,
   "metadata": {},
   "outputs": [
    {
     "name": "stdout",
     "output_type": "stream",
     "text": [
      "<class 'str'>\n"
     ]
    }
   ],
   "source": [
    "print(type(a))"
   ]
  },
  {
   "cell_type": "markdown",
   "metadata": {},
   "source": [
    "Variável do tipo Lista"
   ]
  },
  {
   "cell_type": "code",
   "execution_count": 1,
   "metadata": {},
   "outputs": [],
   "source": [
    "lista = [1,\"a\",3,\"b\",5]"
   ]
  },
  {
   "cell_type": "code",
   "execution_count": 2,
   "metadata": {},
   "outputs": [
    {
     "name": "stdout",
     "output_type": "stream",
     "text": [
      "[1, 'a', 3, 'b', 5]\n"
     ]
    }
   ],
   "source": [
    "print(lista)"
   ]
  },
  {
   "cell_type": "code",
   "execution_count": 3,
   "metadata": {},
   "outputs": [
    {
     "name": "stdout",
     "output_type": "stream",
     "text": [
      "a\n"
     ]
    }
   ],
   "source": [
    "print(lista[1])"
   ]
  },
  {
   "cell_type": "markdown",
   "metadata": {},
   "source": [
    "#Tomar cuidado com o erro abaixo, é muito comum, possívelmente arquivo pode estar vazio, caso esteja lendo algum."
   ]
  },
  {
   "cell_type": "code",
   "execution_count": 4,
   "metadata": {},
   "outputs": [
    {
     "ename": "IndexError",
     "evalue": "list index out of range",
     "output_type": "error",
     "traceback": [
      "\u001b[1;31m---------------------------------------------------------------------------\u001b[0m",
      "\u001b[1;31mIndexError\u001b[0m                                Traceback (most recent call last)",
      "\u001b[1;32m<ipython-input-4-cb6a6782eaa4>\u001b[0m in \u001b[0;36m<module>\u001b[1;34m()\u001b[0m\n\u001b[1;32m----> 1\u001b[1;33m \u001b[0mprint\u001b[0m\u001b[1;33m(\u001b[0m\u001b[0mlista\u001b[0m\u001b[1;33m[\u001b[0m\u001b[1;36m8\u001b[0m\u001b[1;33m]\u001b[0m\u001b[1;33m)\u001b[0m\u001b[1;33m\u001b[0m\u001b[0m\n\u001b[0m",
      "\u001b[1;31mIndexError\u001b[0m: list index out of range"
     ]
    }
   ],
   "source": [
    "print(lista[8])"
   ]
  },
  {
   "cell_type": "markdown",
   "metadata": {},
   "source": [
    "Variável do tipo Dicionário"
   ]
  },
  {
   "cell_type": "code",
   "execution_count": 16,
   "metadata": {},
   "outputs": [],
   "source": [
    "dicionario = {\"Nome\":\"Eric\",\"Idade\":31}"
   ]
  },
  {
   "cell_type": "code",
   "execution_count": 17,
   "metadata": {},
   "outputs": [
    {
     "name": "stdout",
     "output_type": "stream",
     "text": [
      "{'Nome': 'Eric', 'Idade': 31}\n"
     ]
    }
   ],
   "source": [
    "print(dicionario)"
   ]
  },
  {
   "cell_type": "code",
   "execution_count": 19,
   "metadata": {},
   "outputs": [
    {
     "name": "stdout",
     "output_type": "stream",
     "text": [
      "Eric\n"
     ]
    }
   ],
   "source": [
    "print(dicionario[\"Nome\"])"
   ]
  },
  {
   "cell_type": "code",
   "execution_count": 20,
   "metadata": {},
   "outputs": [
    {
     "name": "stdout",
     "output_type": "stream",
     "text": [
      "31\n"
     ]
    }
   ],
   "source": [
    "print(dicionario[\"Idade\"])"
   ]
  },
  {
   "cell_type": "markdown",
   "metadata": {},
   "source": [
    "Variável do tipo Tupla"
   ]
  },
  {
   "cell_type": "code",
   "execution_count": 37,
   "metadata": {},
   "outputs": [],
   "source": [
    "tupla = (1, 2, 3, 4)"
   ]
  },
  {
   "cell_type": "code",
   "execution_count": 38,
   "metadata": {},
   "outputs": [
    {
     "name": "stdout",
     "output_type": "stream",
     "text": [
      "(1, 2, 3, 4)\n"
     ]
    }
   ],
   "source": [
    "print(tupla)"
   ]
  },
  {
   "cell_type": "markdown",
   "metadata": {},
   "source": [
    "#Criando uma lista vazia"
   ]
  },
  {
   "cell_type": "code",
   "execution_count": 21,
   "metadata": {},
   "outputs": [],
   "source": [
    "lstPessoas = []"
   ]
  },
  {
   "cell_type": "markdown",
   "metadata": {},
   "source": [
    "#Criando um dicionário"
   ]
  },
  {
   "cell_type": "code",
   "execution_count": 23,
   "metadata": {},
   "outputs": [],
   "source": [
    "dictPepessoa = {\"Nome\":\"Willian\", \"Idade\":26, \"Estado\":\"São Paulo\"}"
   ]
  },
  {
   "cell_type": "markdown",
   "metadata": {},
   "source": [
    "#Adicionando mais um indice no dicionário"
   ]
  },
  {
   "cell_type": "code",
   "execution_count": 27,
   "metadata": {},
   "outputs": [],
   "source": [
    "dictPepessoa = {\"Nome\":\"Nemesis\", \"Idade\":99, \"Estado\":\"Raccoon City\"}"
   ]
  },
  {
   "cell_type": "markdown",
   "metadata": {},
   "source": [
    "#Adicionando mais um indice no dicionário"
   ]
  },
  {
   "cell_type": "code",
   "execution_count": 30,
   "metadata": {},
   "outputs": [],
   "source": [
    "dictPepessoa = {\"Nome\":\"Marcilia\", \"Idade\":25, \"Estado\":\"São Paulo\"}"
   ]
  },
  {
   "cell_type": "code",
   "execution_count": 31,
   "metadata": {},
   "outputs": [],
   "source": [
    "lstPessoas.append(dictPepessoa)"
   ]
  },
  {
   "cell_type": "code",
   "execution_count": 42,
   "metadata": {},
   "outputs": [
    {
     "name": "stdout",
     "output_type": "stream",
     "text": [
      "[{'Nome': 'Willian', 'Idade': 26, 'Estado': 'São Paulo'}, {'Nome': 'Nemesis', 'Idade': 99, 'Estado': 'Raccoon City'}, {'Nome': 'Marcilia', 'Idade': 25, 'Estado': 'São Paulo'}]\n"
     ]
    }
   ],
   "source": [
    "print(lstPessoas)"
   ]
  },
  {
   "cell_type": "code",
   "execution_count": 57,
   "metadata": {},
   "outputs": [
    {
     "name": "stdout",
     "output_type": "stream",
     "text": [
      "Menor de 26 -> Nome: Willian, Idade: 26, Estado: São Paulo\n",
      "MAIOR de 26 -> Nome: Nemesis, Idade: 99, Estado: Raccoon City\n",
      "Menor de 26 -> Nome: Marcilia, Idade: 25, Estado: São Paulo\n"
     ]
    }
   ],
   "source": [
    "for pessoa in lstPessoas:\n",
    "    if pessoa[\"Idade\"] <= 26:\n",
    "        print(\"Menor de 26 -> Nome: {}, Idade: {}, Estado: {}\".format(pessoa[\"Nome\"],pessoa[\"Idade\"],pessoa[\"Estado\"]))\n",
    "    else:\n",
    "        print(\"MAIOR de 26 -> Nome: {}, Idade: {}, Estado: {}\".format(pessoa[\"Nome\"],pessoa[\"Idade\"],pessoa[\"Estado\"]))"
   ]
  },
  {
   "cell_type": "code",
   "execution_count": 59,
   "metadata": {},
   "outputs": [
    {
     "name": "stdout",
     "output_type": "stream",
     "text": [
      "Não achou\n"
     ]
    }
   ],
   "source": [
    "numero = 100\n",
    "if numero == 1:\n",
    "    print(\"Igual 1\")\n",
    "elif numero == 2:\n",
    "    print(\"Igual 2\")\n",
    "elif numero == 3:\n",
    "    print(\"Igual 3\")\n",
    "elif numero == 10:\n",
    "    print(\"Igual 10\")    \n",
    "else:\n",
    "    print(\"Não achou\")"
   ]
  },
  {
   "cell_type": "code",
   "execution_count": 63,
   "metadata": {},
   "outputs": [],
   "source": [
    "numero = 10"
   ]
  },
  {
   "cell_type": "code",
   "execution_count": 67,
   "metadata": {},
   "outputs": [
    {
     "name": "stdout",
     "output_type": "stream",
     "text": [
      "certo\n"
     ]
    }
   ],
   "source": [
    "if numero == 100 or numero == 10:\n",
    "    print(\"certo\")"
   ]
  },
  {
   "cell_type": "markdown",
   "metadata": {},
   "source": [
    "# Exercicio"
   ]
  },
  {
   "cell_type": "code",
   "execution_count": 1,
   "metadata": {},
   "outputs": [],
   "source": [
    "lstPessoas2 = []"
   ]
  },
  {
   "cell_type": "code",
   "execution_count": 2,
   "metadata": {},
   "outputs": [],
   "source": [
    "dictPepessoa2 = {\"Nome\":\"Carlos Schimidt\", \"Altura\":185, \"Cidade\":\"São Paulo\", \"Idade\":28, \"Estado Civil\":\"Casado\"}"
   ]
  },
  {
   "cell_type": "code",
   "execution_count": 3,
   "metadata": {},
   "outputs": [],
   "source": [
    "lstPessoas2.append(dictPepessoa2)"
   ]
  },
  {
   "cell_type": "code",
   "execution_count": 4,
   "metadata": {},
   "outputs": [],
   "source": [
    "dictPepessoa2 = {\"Nome\":\"Xovana\", \"Altura\":170, \"Cidade\":\"Rio Claro\", \"Idade\":37, \"Estado Civil\":\"Solteira\"}"
   ]
  },
  {
   "cell_type": "code",
   "execution_count": 5,
   "metadata": {},
   "outputs": [],
   "source": [
    "lstPessoas2.append(dictPepessoa2)"
   ]
  },
  {
   "cell_type": "code",
   "execution_count": 6,
   "metadata": {},
   "outputs": [],
   "source": [
    "dictPepessoa2 = {\"Nome\":\"Chiquinho\", \"Altura\":165, \"Cidade\":\"Rio de Janeiro\", \"Idade\":30, \"Estado Civil\":\"Casado\"}"
   ]
  },
  {
   "cell_type": "code",
   "execution_count": 7,
   "metadata": {},
   "outputs": [],
   "source": [
    "lstPessoas2.append(dictPepessoa2)"
   ]
  },
  {
   "cell_type": "code",
   "execution_count": 8,
   "metadata": {},
   "outputs": [],
   "source": [
    "dictPepessoa2 = {\"Nome\":\"Menotti\", \"Altura\":180, \"Cidade\":\"Goias\", \"Idade\":35, \"Estado Civil\":\"Solteiro\"}"
   ]
  },
  {
   "cell_type": "code",
   "execution_count": 9,
   "metadata": {},
   "outputs": [],
   "source": [
    "lstPessoas2.append(dictPepessoa2)"
   ]
  },
  {
   "cell_type": "code",
   "execution_count": 10,
   "metadata": {},
   "outputs": [],
   "source": [
    "dictPepessoa2 = {\"Nome\":\"Thiago\", \"Altura\":183, \"Cidade\":\"São Paulo\", \"Idade\":22, \"Estado Civil\":\"Solteiro\"}"
   ]
  },
  {
   "cell_type": "code",
   "execution_count": 11,
   "metadata": {},
   "outputs": [],
   "source": [
    "lstPessoas2.append(dictPepessoa2)"
   ]
  },
  {
   "cell_type": "code",
   "execution_count": 52,
   "metadata": {},
   "outputs": [
    {
     "data": {
      "text/plain": [
       "[{'Nome': 'Carlos Schimidt',\n",
       "  'Altura': 185,\n",
       "  'Cidade': 'São Paulo',\n",
       "  'Idade': 28,\n",
       "  'Estado Civil': 'Casado'},\n",
       " {'Nome': 'Xovana',\n",
       "  'Altura': 170,\n",
       "  'Cidade': 'Rio Claro',\n",
       "  'Idade': 37,\n",
       "  'Estado Civil': 'Solteira'},\n",
       " {'Nome': 'Chiquinho',\n",
       "  'Altura': 165,\n",
       "  'Cidade': 'Rio de Janeiro',\n",
       "  'Idade': 30,\n",
       "  'Estado Civil': 'Casado'},\n",
       " {'Nome': 'Menotti',\n",
       "  'Altura': 180,\n",
       "  'Cidade': 'Goias',\n",
       "  'Idade': 35,\n",
       "  'Estado Civil': 'Solteiro'},\n",
       " {'Nome': 'Thiago',\n",
       "  'Altura': 183,\n",
       "  'Cidade': 'São Paulo',\n",
       "  'Idade': 22,\n",
       "  'Estado Civil': 'Solteiro'}]"
      ]
     },
     "execution_count": 52,
     "metadata": {},
     "output_type": "execute_result"
    }
   ],
   "source": [
    "lstPessoas2"
   ]
  },
  {
   "cell_type": "code",
   "execution_count": 73,
   "metadata": {},
   "outputs": [
    {
     "name": "stdout",
     "output_type": "stream",
     "text": [
      "Pessoas com mais de 30 anos: [{'Nome': 'Xovana', 'Altura': 170, 'Cidade': 'Rio Claro', 'Idade': 37, 'Estado Civil': 'Solteira'}, {'Nome': 'Menotti', 'Altura': 180, 'Cidade': 'Goias', 'Idade': 35, 'Estado Civil': 'Solteiro'}]\n",
      "--------------------------------------\n",
      "--------------------------------------\n",
      "--------------------------------------\n",
      "Pessoas acima de 180 de Altura: [{'Nome': 'Carlos Schimidt', 'Altura': 185, 'Cidade': 'São Paulo', 'Idade': 28, 'Estado Civil': 'Casado'}, {'Nome': 'Thiago', 'Altura': 183, 'Cidade': 'São Paulo', 'Idade': 22, 'Estado Civil': 'Solteiro'}]\n",
      "--------------------------------------\n",
      "--------------------------------------\n",
      "--------------------------------------\n",
      "Quantidade de Pessoas em São Paulo: 2\n",
      "--------------------------------------\n",
      "--------------------------------------\n",
      "--------------------------------------\n",
      "Pessoas Solteiras: [{'Nome': 'Xovana', 'Altura': 170, 'Cidade': 'Rio Claro', 'Idade': 37, 'Estado Civil': 'Solteira'}, {'Nome': 'Menotti', 'Altura': 180, 'Cidade': 'Goias', 'Idade': 35, 'Estado Civil': 'Solteiro'}, {'Nome': 'Thiago', 'Altura': 183, 'Cidade': 'São Paulo', 'Idade': 22, 'Estado Civil': 'Solteiro'}]\n",
      "--------------------------------------\n",
      "--------------------------------------\n",
      "--------------------------------------\n",
      "Pessoas Casadas: [{'Nome': 'Carlos Schimidt', 'Altura': 185, 'Cidade': 'São Paulo', 'Idade': 28, 'Estado Civil': 'Casado'}, {'Nome': 'Chiquinho', 'Altura': 165, 'Cidade': 'Rio de Janeiro', 'Idade': 30, 'Estado Civil': 'Casado'}]\n"
     ]
    }
   ],
   "source": [
    "count = 0\n",
    "listIdade = []\n",
    "listAltura = []\n",
    "listSolteiro = []\n",
    "listCasado = []\n",
    "for pessoa in lstPessoas2:\n",
    "    if pessoa[\"Idade\"] > 30:\n",
    "        listIdade.append(pessoa)\n",
    "    if pessoa[\"Altura\"] > 180:\n",
    "        listAltura.append(pessoa)\n",
    "    if pessoa[\"Cidade\"].upper() == \"SÃO PAULO\":\n",
    "        count +=1\n",
    "    if pessoa[\"Estado Civil\"].upper().startswith(\"SOLTEIR\"):\n",
    "        listSolteiro.append(pessoa)\n",
    "    else:\n",
    "         listCasado.append(pessoa)\n",
    "print(\"Pessoas com mais de 30 anos: {}\".format(listIdade)) \n",
    "print(\"--------------------------------------\")\n",
    "print(\"--------------------------------------\")\n",
    "print(\"--------------------------------------\")\n",
    "print(\"Pessoas acima de 180 de Altura: {}\".format(listAltura))   \n",
    "print(\"--------------------------------------\")\n",
    "print(\"--------------------------------------\")\n",
    "print(\"--------------------------------------\")\n",
    "print(\"Quantidade de Pessoas em São Paulo: {}\".format(count))\n",
    "print(\"--------------------------------------\")\n",
    "print(\"--------------------------------------\")\n",
    "print(\"--------------------------------------\")\n",
    "print(\"Pessoas Solteiras: {}\".format(listSolteiro))\n",
    "print(\"--------------------------------------\")\n",
    "print(\"--------------------------------------\")\n",
    "print(\"--------------------------------------\")\n",
    "print(\"Pessoas Casadas: {}\".format(listCasado))"
   ]
  },
  {
   "cell_type": "code",
   "execution_count": null,
   "metadata": {},
   "outputs": [],
   "source": []
  }
 ],
 "metadata": {
  "kernelspec": {
   "display_name": "Python 3",
   "language": "python",
   "name": "python3"
  },
  "language_info": {
   "codemirror_mode": {
    "name": "ipython",
    "version": 3
   },
   "file_extension": ".py",
   "mimetype": "text/x-python",
   "name": "python",
   "nbconvert_exporter": "python",
   "pygments_lexer": "ipython3",
   "version": "3.6.3"
  }
 },
 "nbformat": 4,
 "nbformat_minor": 2
}

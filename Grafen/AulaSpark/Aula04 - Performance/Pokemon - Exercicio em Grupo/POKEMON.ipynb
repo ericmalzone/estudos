{
 "cells": [
  {
   "cell_type": "markdown",
   "metadata": {},
   "source": [
    "# PIKACHU GROUP"
   ]
  },
  {
   "cell_type": "code",
   "execution_count": 1,
   "metadata": {},
   "outputs": [],
   "source": [
    "import findspark\n",
    "findspark.init()\n",
    "from IPython.display import Image\n",
    "\n",
    "import pyspark\n",
    "from pyspark.sql import SparkSession\n",
    "\n",
    "#importando as classes que possuem as funcoes do Spark que vamos utilizar nessa aula\n",
    "from pyspark.sql.functions import *\n",
    "\n",
    "#Importando classe que externa que criamos\n",
    "from ExemploDF import *\n",
    "\n",
    "spark = SparkSession.builder.getOrCreate()"
   ]
  },
  {
   "cell_type": "code",
   "execution_count": 3,
   "metadata": {},
   "outputs": [
    {
     "name": "stdout",
     "output_type": "stream",
     "text": [
      "\n",
      "Lendo Arquivo 'Pokemon.csv':\n",
      "\n",
      "O dataframe possui 800 linhas\n",
      "Arquivo parquet criado com sucesso\n",
      "+---+--------------------+------+------+-----+---+------+-------+------+------+-----+----------+---------+\n",
      "|  #|                Name|Type_1|Type_2|Total| HP|Attack|Defense|Sp_Atk|Sp_Def|Speed|Generation|Legendary|\n",
      "+---+--------------------+------+------+-----+---+------+-------+------+------+-----+----------+---------+\n",
      "|  1|           Bulbasaur| Grass|Poison|  318| 45|    49|     49|    65|    65|   45|         1|    False|\n",
      "|  2|             Ivysaur| Grass|Poison|  405| 60|    62|     63|    80|    80|   60|         1|    False|\n",
      "|  3|            Venusaur| Grass|Poison|  525| 80|    82|     83|   100|   100|   80|         1|    False|\n",
      "|  3|VenusaurMega Venu...| Grass|Poison|  625| 80|   100|    123|   122|   120|   80|         1|    False|\n",
      "|  4|          Charmander|  Fire|  null|  309| 39|    52|     43|    60|    50|   65|         1|    False|\n",
      "|  5|          Charmeleon|  Fire|  null|  405| 58|    64|     58|    80|    65|   80|         1|    False|\n",
      "|  6|           Charizard|  Fire|Flying|  534| 78|    84|     78|   109|    85|  100|         1|    False|\n",
      "|  6|CharizardMega Cha...|  Fire|Dragon|  634| 78|   130|    111|   130|    85|  100|         1|    False|\n",
      "|  6|CharizardMega Cha...|  Fire|Flying|  634| 78|   104|     78|   159|   115|  100|         1|    False|\n",
      "|  7|            Squirtle| Water|  null|  314| 44|    48|     65|    50|    64|   43|         1|    False|\n",
      "|  8|           Wartortle| Water|  null|  405| 59|    63|     80|    65|    80|   58|         1|    False|\n",
      "|  9|           Blastoise| Water|  null|  530| 79|    83|    100|    85|   105|   78|         1|    False|\n",
      "|  9|BlastoiseMega Bla...| Water|  null|  630| 79|   103|    120|   135|   115|   78|         1|    False|\n",
      "| 10|            Caterpie|   Bug|  null|  195| 45|    30|     35|    20|    20|   45|         1|    False|\n",
      "| 11|             Metapod|   Bug|  null|  205| 50|    20|     55|    25|    25|   30|         1|    False|\n",
      "| 12|          Butterfree|   Bug|Flying|  395| 60|    45|     50|    90|    80|   70|         1|    False|\n",
      "| 13|              Weedle|   Bug|Poison|  195| 40|    35|     30|    20|    20|   50|         1|    False|\n",
      "| 14|              Kakuna|   Bug|Poison|  205| 45|    25|     50|    25|    25|   35|         1|    False|\n",
      "| 15|            Beedrill|   Bug|Poison|  395| 65|    90|     40|    45|    80|   75|         1|    False|\n",
      "| 15|BeedrillMega Beed...|   Bug|Poison|  495| 65|   150|     40|    15|    80|  145|         1|    False|\n",
      "+---+--------------------+------+------+-----+---+------+-------+------+------+-----+----------+---------+\n",
      "only showing top 20 rows\n",
      "\n"
     ]
    }
   ],
   "source": [
    "def pokemon():\n",
    "    \n",
    "    print(\"\\nLendo Arquivo 'Pokemon.csv':\\n\")\n",
    "    exDF = ExemploDataFrame(spark,\"Pokemon.csv\",True)\n",
    "    exDF.ContarLinhas()\n",
    "    \n",
    "    name_file = \"pokemon.parquet\"\n",
    "    \n",
    "    #df_write = countDF.ReturnDF()\n",
    "    #df_write.write.parquet(name_file, mode='append')\n",
    "    \n",
    "    df = exDF.ReturnDF()\n",
    "    exDF.GravarParquet(name_file,df)\n",
    "    \n",
    "    #print(\"Aquivo Parquet gravado com sucesso!\")\n",
    "    \n",
    "    exDF.LerParquet(name_file)\n",
    "    \n",
    "    #df = exDF.ReturnDF()\n",
    "    \n",
    "    \n",
    "    \n",
    "df = pokemon()"
   ]
  },
  {
   "cell_type": "code",
   "execution_count": 5,
   "metadata": {},
   "outputs": [],
   "source": [
    "exDF = ExemploDataFrame(spark,\"Pokemon.csv\",True)"
   ]
  },
  {
   "cell_type": "code",
   "execution_count": 6,
   "metadata": {},
   "outputs": [],
   "source": [
    "df = exDF.ReturnDF()"
   ]
  },
  {
   "cell_type": "code",
   "execution_count": 7,
   "metadata": {},
   "outputs": [
    {
     "name": "stdout",
     "output_type": "stream",
     "text": [
      "+---+--------------------+------+------+-----+---+------+-------+------+------+-----+----------+---------+\n",
      "|  #|                Name|Type_1|Type_2|Total| HP|Attack|Defense|Sp_Atk|Sp_Def|Speed|Generation|Legendary|\n",
      "+---+--------------------+------+------+-----+---+------+-------+------+------+-----+----------+---------+\n",
      "|  1|           Bulbasaur| Grass|Poison|  318| 45|    49|     49|    65|    65|   45|         1|    False|\n",
      "|  2|             Ivysaur| Grass|Poison|  405| 60|    62|     63|    80|    80|   60|         1|    False|\n",
      "|  3|            Venusaur| Grass|Poison|  525| 80|    82|     83|   100|   100|   80|         1|    False|\n",
      "|  3|VenusaurMega Venu...| Grass|Poison|  625| 80|   100|    123|   122|   120|   80|         1|    False|\n",
      "|  4|          Charmander|  Fire|  null|  309| 39|    52|     43|    60|    50|   65|         1|    False|\n",
      "|  5|          Charmeleon|  Fire|  null|  405| 58|    64|     58|    80|    65|   80|         1|    False|\n",
      "|  6|           Charizard|  Fire|Flying|  534| 78|    84|     78|   109|    85|  100|         1|    False|\n",
      "|  6|CharizardMega Cha...|  Fire|Dragon|  634| 78|   130|    111|   130|    85|  100|         1|    False|\n",
      "|  6|CharizardMega Cha...|  Fire|Flying|  634| 78|   104|     78|   159|   115|  100|         1|    False|\n",
      "|  7|            Squirtle| Water|  null|  314| 44|    48|     65|    50|    64|   43|         1|    False|\n",
      "|  8|           Wartortle| Water|  null|  405| 59|    63|     80|    65|    80|   58|         1|    False|\n",
      "|  9|           Blastoise| Water|  null|  530| 79|    83|    100|    85|   105|   78|         1|    False|\n",
      "|  9|BlastoiseMega Bla...| Water|  null|  630| 79|   103|    120|   135|   115|   78|         1|    False|\n",
      "| 10|            Caterpie|   Bug|  null|  195| 45|    30|     35|    20|    20|   45|         1|    False|\n",
      "| 11|             Metapod|   Bug|  null|  205| 50|    20|     55|    25|    25|   30|         1|    False|\n",
      "| 12|          Butterfree|   Bug|Flying|  395| 60|    45|     50|    90|    80|   70|         1|    False|\n",
      "| 13|              Weedle|   Bug|Poison|  195| 40|    35|     30|    20|    20|   50|         1|    False|\n",
      "| 14|              Kakuna|   Bug|Poison|  205| 45|    25|     50|    25|    25|   35|         1|    False|\n",
      "| 15|            Beedrill|   Bug|Poison|  395| 65|    90|     40|    45|    80|   75|         1|    False|\n",
      "| 15|BeedrillMega Beed...|   Bug|Poison|  495| 65|   150|     40|    15|    80|  145|         1|    False|\n",
      "+---+--------------------+------+------+-----+---+------+-------+------+------+-----+----------+---------+\n",
      "only showing top 20 rows\n",
      "\n"
     ]
    }
   ],
   "source": [
    "df.show()"
   ]
  },
  {
   "cell_type": "code",
   "execution_count": 8,
   "metadata": {},
   "outputs": [],
   "source": [
    "q1 = df.where((col(\"Type_1\") == \"Electric\") & (col(\"Name\") != \"Pikachu\"))"
   ]
  },
  {
   "cell_type": "code",
   "execution_count": 9,
   "metadata": {},
   "outputs": [
    {
     "name": "stdout",
     "output_type": "stream",
     "text": [
      "Arquivo parquet criado com sucesso\n"
     ]
    }
   ],
   "source": [
    "name_file=\"Pokemon_filter.parquet\"\n",
    "\n",
    "exDF.GravarParquet(name_file,q1)"
   ]
  },
  {
   "cell_type": "code",
   "execution_count": 10,
   "metadata": {},
   "outputs": [],
   "source": [
    "q2 = df.filter(col(\"Name\").contains(\"Mega\"))"
   ]
  },
  {
   "cell_type": "code",
   "execution_count": 11,
   "metadata": {},
   "outputs": [
    {
     "name": "stdout",
     "output_type": "stream",
     "text": [
      "Arquivo parquet criado com sucesso\n"
     ]
    }
   ],
   "source": [
    "exDF.GravarParquet(name_file,q2)"
   ]
  },
  {
   "cell_type": "code",
   "execution_count": 13,
   "metadata": {},
   "outputs": [],
   "source": [
    "q3 = df.filter(col(\"Legendary\") == \"True\")"
   ]
  },
  {
   "cell_type": "code",
   "execution_count": 14,
   "metadata": {},
   "outputs": [
    {
     "name": "stdout",
     "output_type": "stream",
     "text": [
      "Arquivo parquet criado com sucesso\n"
     ]
    }
   ],
   "source": [
    "name_file=\"Lendarios.parquet\"\n",
    "exDF.GravarParquet(name_file,q3)"
   ]
  },
  {
   "cell_type": "code",
   "execution_count": null,
   "metadata": {},
   "outputs": [],
   "source": []
  }
 ],
 "metadata": {
  "kernelspec": {
   "display_name": "Python 3",
   "language": "python",
   "name": "python3"
  },
  "language_info": {
   "codemirror_mode": {
    "name": "ipython",
    "version": 3
   },
   "file_extension": ".py",
   "mimetype": "text/x-python",
   "name": "python",
   "nbconvert_exporter": "python",
   "pygments_lexer": "ipython3",
   "version": "3.7.3"
  }
 },
 "nbformat": 4,
 "nbformat_minor": 2
}

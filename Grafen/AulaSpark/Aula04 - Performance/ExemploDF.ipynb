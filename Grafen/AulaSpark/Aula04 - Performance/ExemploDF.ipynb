{
 "cells": [
  {
   "cell_type": "code",
   "execution_count": null,
   "metadata": {},
   "outputs": [],
   "source": [
    "class ExemploDataFrame():\n",
    "    def __init__(self, spark, strArquivo):\n",
    "        self.spark = spark\n",
    "        self.Arquivo = strArquivo\n",
    "        \n",
    "    def ReturnDF(self):\n",
    "        df = self.spark.read.csv(self.Arquivo)\n",
    "        \n",
    "        return df\n",
    "    \n",
    "    def ContarLinhas(self):\n",
    "        df = self.ReturnDF()\n",
    "        countDF = df.count()\n",
    "        \n",
    "        print(\"O dataframe possui \" + str(countDF) + \"linhas\")\n",
    "        \n",
    "    def GravarParquet(self, name_file):\n",
    "        df_write = self.ReturnDF()\n",
    "        \n",
    "        df_write.write.parquet(name_file, mode='append')\n",
    "        \n",
    "        print(\"Arquivo parquet criado com sucesso\")\n",
    "        \n",
    "    def LerParquet(self, name_file):\n",
    "        df_read = self.spark.read.parquet(name_file)\n",
    "        df_read.show()"
   ]
  }
 ],
 "metadata": {
  "kernelspec": {
   "display_name": "Python 3",
   "language": "python",
   "name": "python3"
  },
  "language_info": {
   "codemirror_mode": {
    "name": "ipython",
    "version": 3
   },
   "file_extension": ".py",
   "mimetype": "text/x-python",
   "name": "python",
   "nbconvert_exporter": "python",
   "pygments_lexer": "ipython3",
   "version": "3.6.3"
  }
 },
 "nbformat": 4,
 "nbformat_minor": 2
}

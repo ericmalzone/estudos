{
 "cells": [
  {
   "cell_type": "markdown",
   "metadata": {},
   "source": [
    "# Hello World: Pyspark\n",
    "Construindo primeiro código em spark\n",
    "\n",
    "Documentação:\n",
    "\n",
    "   * https://spark.apache.org/docs/latest/\n",
    "\n",
    "   * https://spark.apache.org/docs/latest/api/python/index.html"
   ]
  },
  {
   "cell_type": "code",
   "execution_count": null,
   "metadata": {},
   "outputs": [],
   "source": [
    "import findspark\n",
    "findspark.init()"
   ]
  },
  {
   "cell_type": "markdown",
   "metadata": {},
   "source": [
    "Criamos o SparkContext e SparkSession que serão responsáveis por utilizar os métodos do Spark e fazer a comunicação entre os executores e driver. \n",
    "\n",
    "Para isso, utilizamos o *import* do Python:\n",
    "\n",
    "    import pyspark\n",
    "    from pyspark.sql import SparkSession\n",
    "    from pyspark import SparkContext\n",
    "\n",
    "Em Scala, seria:\n",
    "\n",
    "    import org.apache.spark.sql.{DataFrame, SparkSession}"
   ]
  },
  {
   "cell_type": "code",
   "execution_count": null,
   "metadata": {},
   "outputs": [],
   "source": [
    "#Import pyspark"
   ]
  },
  {
   "cell_type": "markdown",
   "metadata": {},
   "source": [
    "Hello World em Pyspark"
   ]
  },
  {
   "cell_type": "code",
   "execution_count": null,
   "metadata": {},
   "outputs": [],
   "source": []
  },
  {
   "cell_type": "code",
   "execution_count": null,
   "metadata": {},
   "outputs": [],
   "source": []
  },
  {
   "cell_type": "code",
   "execution_count": null,
   "metadata": {},
   "outputs": [],
   "source": []
  },
  {
   "cell_type": "code",
   "execution_count": null,
   "metadata": {},
   "outputs": [],
   "source": []
  },
  {
   "cell_type": "code",
   "execution_count": null,
   "metadata": {},
   "outputs": [],
   "source": []
  },
  {
   "cell_type": "code",
   "execution_count": null,
   "metadata": {},
   "outputs": [],
   "source": []
  },
  {
   "cell_type": "code",
   "execution_count": null,
   "metadata": {},
   "outputs": [],
   "source": []
  },
  {
   "cell_type": "code",
   "execution_count": null,
   "metadata": {},
   "outputs": [],
   "source": []
  },
  {
   "cell_type": "code",
   "execution_count": null,
   "metadata": {},
   "outputs": [],
   "source": []
  },
  {
   "cell_type": "code",
   "execution_count": null,
   "metadata": {},
   "outputs": [],
   "source": []
  },
  {
   "cell_type": "markdown",
   "metadata": {},
   "source": [
    "## Fontes\n",
    "\n",
    "Referências Bibliográficas - Crie o hábito de estudar"
   ]
  },
  {
   "cell_type": "markdown",
   "metadata": {},
   "source": [
    "* https://github.com/databricks/learning-spark\n",
    "* https://databricks.com/blog/2016/08/15/how-to-use-sparksession-in-apache-spark-2-0.html\n",
    "* https://medium.com/@douglas_sleal/usando-thread-com-pyspark-c93c7709036b\n",
    "* https://www.oreilly.com/\n",
    "* https://databricks.com/\n",
    "* https://www.devmedia.com.br/introducao-ao-apache-spark/34178\n",
    "* https://spark.apache.org/\n",
    "* https://spark.apache.org/examples.html\n",
    "* https://www.linkedin.com/in/samuel-otero-schmidt-a9835816/\n",
    "* https://learning.oreilly.com/library/view/learning-spark/9781449359034/\n",
    "* https://learning.oreilly.com/library/view/spark-the-definitive/9781491912201/\n",
    "* Ryza, Sandy; Uri Laserson; Sean Owen; Josh Wills. Advanced Analytics with Apache Spark: The Book, O'Reilly Media, 2015\n",
    "* ZAHARIA, Matei et al. Learning Spark: Lightning-fast Data Analysis, O'Reilly Media, 2015\n",
    "* 7-steps-for-a-developer-to-learn-apache-spark, Databricks\n",
    "* Introduction to DataFrames - Scala — Databricks Documentation"
   ]
  }
 ],
 "metadata": {
  "kernelspec": {
   "display_name": "Python 3",
   "language": "python",
   "name": "python3"
  },
  "language_info": {
   "codemirror_mode": {
    "name": "ipython",
    "version": 3
   },
   "file_extension": ".py",
   "mimetype": "text/x-python",
   "name": "python",
   "nbconvert_exporter": "python",
   "pygments_lexer": "ipython3",
   "version": "3.6.5"
  }
 },
 "nbformat": 4,
 "nbformat_minor": 2
}
